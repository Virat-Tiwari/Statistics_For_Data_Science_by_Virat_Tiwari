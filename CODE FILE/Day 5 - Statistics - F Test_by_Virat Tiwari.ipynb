{
 "cells": [
  {
   "cell_type": "markdown",
   "id": "810078ac-4277-49eb-aae2-a1013d97ce11",
   "metadata": {},
   "source": [
    "# F Test"
   ]
  },
  {
   "cell_type": "code",
   "execution_count": 1,
   "id": "fc45618d-bc24-4656-858e-8c2fea6906dd",
   "metadata": {},
   "outputs": [],
   "source": [
    "# In this question we will compare the worker 1 to worker 2\n",
    "# Evidence to say that two population variances are not equal\n",
    "\n",
    "worker1=[18,19,22,25,27,28,41,45,51,55]\n",
    "worker2=[14,15,15,17,18,22,25,25,27,34]"
   ]
  },
  {
   "cell_type": "code",
   "execution_count": 6,
   "id": "9c177175-77b9-415b-b12a-0624e078ba88",
   "metadata": {},
   "outputs": [],
   "source": [
    "# Calculating F test\n",
    "# np.var ( ) function is used for calculating the variance \n",
    "# Than we divide the variance of worker 1 and worker 2\n",
    "# And finally store it in variable \" f_test \"\n",
    "\n",
    "import numpy as np\n",
    "f_test=np.var(worker1)/np.var(worker2)"
   ]
  },
  {
   "cell_type": "code",
   "execution_count": 7,
   "id": "950f3450-f372-466d-af80-ca97206e02ac",
   "metadata": {},
   "outputs": [
    {
     "data": {
      "text/plain": [
       "4.387122002085506"
      ]
     },
     "execution_count": 7,
     "metadata": {},
     "output_type": "execute_result"
    }
   ],
   "source": [
    "f_test"
   ]
  },
  {
   "cell_type": "code",
   "execution_count": 11,
   "id": "d72f8763-6e0d-462a-978c-7f36be2e96d3",
   "metadata": {},
   "outputs": [],
   "source": [
    "# Degree of freedom\n",
    "# In degree of freedom we will use n-1\n",
    "# So this is how we will calculate degree of freedom\n",
    "# n-1 = len ( ) - 1\n",
    "\n",
    "df1=len(worker1)-1\n",
    "df2=len(worker2)-1\n",
    "significance_value=0.05"
   ]
  },
  {
   "cell_type": "code",
   "execution_count": 12,
   "id": "8318e435-2bce-43f2-ae50-aded40f31272",
   "metadata": {},
   "outputs": [],
   "source": [
    "# Here we don't refer f table so we use scipy library and it also gives the critical value\n",
    "\n",
    "import scipy.stats as stat"
   ]
  },
  {
   "cell_type": "code",
   "execution_count": 16,
   "id": "7d2e5dd7-717f-498c-af77-595c5c9d4919",
   "metadata": {},
   "outputs": [],
   "source": [
    "# f.ppf ( ) gives the critical value \n",
    "# We store that value in variable \" critical_value \" \n",
    "\n",
    "critical_value=stat.f.ppf(q=1-significance_value,dfn=df1,dfd=df2)"
   ]
  },
  {
   "cell_type": "code",
   "execution_count": 17,
   "id": "d4780618-d60f-4ae1-83a4-ffb76cd9157b",
   "metadata": {},
   "outputs": [
    {
     "data": {
      "text/plain": [
       "3.178893104458269"
      ]
     },
     "execution_count": 17,
     "metadata": {},
     "output_type": "execute_result"
    }
   ],
   "source": [
    "critical_value"
   ]
  },
  {
   "cell_type": "code",
   "execution_count": null,
   "id": "2fad9aa5-e61a-46ec-801a-c6188fb40120",
   "metadata": {},
   "outputs": [],
   "source": [
    "if f_test>critical_value:\n",
    "    print(\"Reject the null hypothesis\")\n",
    "el"
   ]
  }
 ],
 "metadata": {
  "kernelspec": {
   "display_name": "Python 3 (ipykernel)",
   "language": "python",
   "name": "python3"
  },
  "language_info": {
   "codemirror_mode": {
    "name": "ipython",
    "version": 3
   },
   "file_extension": ".py",
   "mimetype": "text/x-python",
   "name": "python",
   "nbconvert_exporter": "python",
   "pygments_lexer": "ipython3",
   "version": "3.10.8"
  }
 },
 "nbformat": 4,
 "nbformat_minor": 5
}
