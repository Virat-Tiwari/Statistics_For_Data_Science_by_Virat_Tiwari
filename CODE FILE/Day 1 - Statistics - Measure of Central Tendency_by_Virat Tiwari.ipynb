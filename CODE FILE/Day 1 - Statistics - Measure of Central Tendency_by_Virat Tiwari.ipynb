{
 "cells": [
  {
   "cell_type": "markdown",
   "id": "532bc394-806e-4a3c-8702-f204e86c7d3e",
   "metadata": {},
   "source": [
    "# MEASURE OF CENTRAL TENDENCY -:\n",
    "# IN THIS TOPIC WE HAVE TO CALCULATE THE MEAN , MODE , MEDIAN IN PYTHON"
   ]
  },
  {
   "cell_type": "markdown",
   "id": "63f281f3-cd01-4be9-bd17-44f04e53dd10",
   "metadata": {},
   "source": [
    "# A - Mean (Average)"
   ]
  },
  {
   "cell_type": "code",
   "execution_count": 19,
   "id": "c396492c-cec4-45b6-bea3-9b3044afd2e8",
   "metadata": {},
   "outputs": [],
   "source": [
    "age = [45,2,5,33,6,44,51,26,84,13,20,54,91,36,47,97,83,64,28]"
   ]
  },
  {
   "cell_type": "markdown",
   "id": "ae88c265-3234-45ae-94f3-c5909defffd4",
   "metadata": {},
   "source": [
    "Note - In python we have a NUMPY library for getting the MEAN or AVERAGE of Dataset , so we simply import the NUMPY library for finding the MEAN of any Dataset"
   ]
  },
  {
   "cell_type": "code",
   "execution_count": 20,
   "id": "13e52cdd-3643-447f-8092-3d9785b178d6",
   "metadata": {},
   "outputs": [
    {
     "data": {
      "text/plain": [
       "43.63157894736842"
      ]
     },
     "execution_count": 20,
     "metadata": {},
     "output_type": "execute_result"
    }
   ],
   "source": [
    "import numpy as np\n",
    "np.mean(age)"
   ]
  },
  {
   "cell_type": "code",
   "execution_count": 21,
   "id": "8f4f6892-4a35-45eb-a278-ff6786849d56",
   "metadata": {},
   "outputs": [],
   "source": [
    "weights=[48,54,69,75,84,35,75]"
   ]
  },
  {
   "cell_type": "code",
   "execution_count": 22,
   "id": "2feacce8-95b7-4618-994b-7af10d8413d5",
   "metadata": {},
   "outputs": [
    {
     "data": {
      "text/plain": [
       "62.857142857142854"
      ]
     },
     "execution_count": 22,
     "metadata": {},
     "output_type": "execute_result"
    }
   ],
   "source": [
    "np.mean(weights)"
   ]
  },
  {
   "cell_type": "markdown",
   "id": "8814d389-5ca3-4603-b254-0c141592b9f9",
   "metadata": {},
   "source": [
    "Note - In python we have another library called as \"SEABORN\" that provide the built in datasets so we simply used that dataset by importing this library"
   ]
  },
  {
   "cell_type": "code",
   "execution_count": 23,
   "id": "9749ca69-f435-4317-a799-f228434a4388",
   "metadata": {},
   "outputs": [],
   "source": [
    "import seaborn as sns\n",
    "df=sns.load_dataset('tips')"
   ]
  },
  {
   "cell_type": "code",
   "execution_count": 24,
   "id": "312f1afc-887a-4f70-a114-367774ecf0eb",
   "metadata": {},
   "outputs": [
    {
     "data": {
      "text/html": [
       "<div>\n",
       "<style scoped>\n",
       "    .dataframe tbody tr th:only-of-type {\n",
       "        vertical-align: middle;\n",
       "    }\n",
       "\n",
       "    .dataframe tbody tr th {\n",
       "        vertical-align: top;\n",
       "    }\n",
       "\n",
       "    .dataframe thead th {\n",
       "        text-align: right;\n",
       "    }\n",
       "</style>\n",
       "<table border=\"1\" class=\"dataframe\">\n",
       "  <thead>\n",
       "    <tr style=\"text-align: right;\">\n",
       "      <th></th>\n",
       "      <th>total_bill</th>\n",
       "      <th>tip</th>\n",
       "      <th>sex</th>\n",
       "      <th>smoker</th>\n",
       "      <th>day</th>\n",
       "      <th>time</th>\n",
       "      <th>size</th>\n",
       "    </tr>\n",
       "  </thead>\n",
       "  <tbody>\n",
       "    <tr>\n",
       "      <th>0</th>\n",
       "      <td>16.99</td>\n",
       "      <td>1.01</td>\n",
       "      <td>Female</td>\n",
       "      <td>No</td>\n",
       "      <td>Sun</td>\n",
       "      <td>Dinner</td>\n",
       "      <td>2</td>\n",
       "    </tr>\n",
       "    <tr>\n",
       "      <th>1</th>\n",
       "      <td>10.34</td>\n",
       "      <td>1.66</td>\n",
       "      <td>Male</td>\n",
       "      <td>No</td>\n",
       "      <td>Sun</td>\n",
       "      <td>Dinner</td>\n",
       "      <td>3</td>\n",
       "    </tr>\n",
       "    <tr>\n",
       "      <th>2</th>\n",
       "      <td>21.01</td>\n",
       "      <td>3.50</td>\n",
       "      <td>Male</td>\n",
       "      <td>No</td>\n",
       "      <td>Sun</td>\n",
       "      <td>Dinner</td>\n",
       "      <td>3</td>\n",
       "    </tr>\n",
       "    <tr>\n",
       "      <th>3</th>\n",
       "      <td>23.68</td>\n",
       "      <td>3.31</td>\n",
       "      <td>Male</td>\n",
       "      <td>No</td>\n",
       "      <td>Sun</td>\n",
       "      <td>Dinner</td>\n",
       "      <td>2</td>\n",
       "    </tr>\n",
       "    <tr>\n",
       "      <th>4</th>\n",
       "      <td>24.59</td>\n",
       "      <td>3.61</td>\n",
       "      <td>Female</td>\n",
       "      <td>No</td>\n",
       "      <td>Sun</td>\n",
       "      <td>Dinner</td>\n",
       "      <td>4</td>\n",
       "    </tr>\n",
       "  </tbody>\n",
       "</table>\n",
       "</div>"
      ],
      "text/plain": [
       "   total_bill   tip     sex smoker  day    time  size\n",
       "0       16.99  1.01  Female     No  Sun  Dinner     2\n",
       "1       10.34  1.66    Male     No  Sun  Dinner     3\n",
       "2       21.01  3.50    Male     No  Sun  Dinner     3\n",
       "3       23.68  3.31    Male     No  Sun  Dinner     2\n",
       "4       24.59  3.61  Female     No  Sun  Dinner     4"
      ]
     },
     "execution_count": 24,
     "metadata": {},
     "output_type": "execute_result"
    }
   ],
   "source": [
    "df.head()"
   ]
  },
  {
   "cell_type": "code",
   "execution_count": 25,
   "id": "dc42dc19-74cb-45b3-8393-7cb4bd284397",
   "metadata": {},
   "outputs": [
    {
     "data": {
      "text/plain": [
       "19.78594262295082"
      ]
     },
     "execution_count": 25,
     "metadata": {},
     "output_type": "execute_result"
    }
   ],
   "source": [
    "np.mean(df['total_bill'])"
   ]
  },
  {
   "cell_type": "code",
   "execution_count": 26,
   "id": "c709b266-d006-422d-a73d-99d045a89124",
   "metadata": {},
   "outputs": [
    {
     "data": {
      "text/plain": [
       "2.99827868852459"
      ]
     },
     "execution_count": 26,
     "metadata": {},
     "output_type": "execute_result"
    }
   ],
   "source": [
    "np.mean(df[\"tip\"])"
   ]
  },
  {
   "cell_type": "markdown",
   "id": "106d2d8f-b598-4cb0-b41c-da76f9bf9b1e",
   "metadata": {},
   "source": [
    "# B - Median"
   ]
  },
  {
   "cell_type": "code",
   "execution_count": 27,
   "id": "0b84aa67-bb2c-42f4-8a6c-e0e69ab986d8",
   "metadata": {},
   "outputs": [
    {
     "data": {
      "text/plain": [
       "44.0"
      ]
     },
     "execution_count": 27,
     "metadata": {},
     "output_type": "execute_result"
    }
   ],
   "source": [
    "np.median(age)"
   ]
  },
  {
   "cell_type": "code",
   "execution_count": 28,
   "id": "bc7e9320-9e76-4d2d-a993-90a5c441da34",
   "metadata": {},
   "outputs": [
    {
     "data": {
      "text/plain": [
       "17.795"
      ]
     },
     "execution_count": 28,
     "metadata": {},
     "output_type": "execute_result"
    }
   ],
   "source": [
    "np.median(df[\"total_bill\"])"
   ]
  },
  {
   "cell_type": "code",
   "execution_count": 29,
   "id": "5d661758-4b58-48bd-8dee-0f86263433cb",
   "metadata": {},
   "outputs": [
    {
     "data": {
      "text/plain": [
       "2.9"
      ]
     },
     "execution_count": 29,
     "metadata": {},
     "output_type": "execute_result"
    }
   ],
   "source": [
    "np.median(df[\"tip\"])"
   ]
  },
  {
   "cell_type": "code",
   "execution_count": 30,
   "id": "87d7ee1e-d29c-46d2-b375-c50f189070df",
   "metadata": {},
   "outputs": [],
   "source": [
    "# In this dataset last value is bigger than other vakues so that value is outlier of dataset\n",
    "\n",
    "age = [45,2,5,33,6,44,51,26,84,13,20,54,91,36,47,97,83,64,300]"
   ]
  },
  {
   "cell_type": "code",
   "execution_count": 31,
   "id": "0ae378d0-ff29-4a6e-9da9-9efb73896b45",
   "metadata": {},
   "outputs": [
    {
     "data": {
      "text/plain": [
       "45.0"
      ]
     },
     "execution_count": 31,
     "metadata": {},
     "output_type": "execute_result"
    }
   ],
   "source": [
    "np.median(age)"
   ]
  },
  {
   "cell_type": "markdown",
   "id": "88708ffe-06cc-4ec2-836f-1ae82d985d91",
   "metadata": {},
   "source": [
    "Note - In case of OUTLIERS we have to used Median for better result , OUTLIERS are the one or two bigeer value in a dataset comapartively other values"
   ]
  },
  {
   "cell_type": "markdown",
   "id": "078114fb-b2fe-41fe-a912-1f7234375be2",
   "metadata": {},
   "source": [
    "# C - Mode"
   ]
  },
  {
   "cell_type": "markdown",
   "id": "608dde27-f3fc-4a5b-a04f-dbb611d70f07",
   "metadata": {},
   "source": [
    "Note - In python for MODE we have to import a specifically library called as  SCIPY"
   ]
  },
  {
   "cell_type": "code",
   "execution_count": 32,
   "id": "5b1c604a-aa15-4590-970c-f3b3a1c191c7",
   "metadata": {},
   "outputs": [],
   "source": [
    "from scipy import stats"
   ]
  },
  {
   "cell_type": "code",
   "execution_count": 33,
   "id": "59ec473d-58a2-4a05-90fe-f1d5049c82c8",
   "metadata": {},
   "outputs": [
    {
     "name": "stderr",
     "output_type": "stream",
     "text": [
      "/tmp/ipykernel_70/2474845003.py:1: FutureWarning: Unlike other reduction functions (e.g. `skew`, `kurtosis`), the default behavior of `mode` typically preserves the axis it acts along. In SciPy 1.11.0, this behavior will change: the default value of `keepdims` will become False, the `axis` over which the statistic is taken will be eliminated, and the value None will no longer be accepted. Set `keepdims` to True or False to avoid this warning.\n",
      "  stats.mode(age)\n"
     ]
    },
    {
     "data": {
      "text/plain": [
       "ModeResult(mode=array([2]), count=array([1]))"
      ]
     },
     "execution_count": 33,
     "metadata": {},
     "output_type": "execute_result"
    }
   ],
   "source": [
    "stats.mode(age)"
   ]
  },
  {
   "cell_type": "markdown",
   "id": "7a478898-2f0e-452f-89e4-20911bae475b",
   "metadata": {},
   "source": [
    "THANK YOU SO MUCH !!\n",
    "\n",
    "YOURS VIRAT TIWARI :)"
   ]
  }
 ],
 "metadata": {
  "kernelspec": {
   "display_name": "Python 3 (ipykernel)",
   "language": "python",
   "name": "python3"
  },
  "language_info": {
   "codemirror_mode": {
    "name": "ipython",
    "version": 3
   },
   "file_extension": ".py",
   "mimetype": "text/x-python",
   "name": "python",
   "nbconvert_exporter": "python",
   "pygments_lexer": "ipython3",
   "version": "3.10.8"
  }
 },
 "nbformat": 4,
 "nbformat_minor": 5
}
