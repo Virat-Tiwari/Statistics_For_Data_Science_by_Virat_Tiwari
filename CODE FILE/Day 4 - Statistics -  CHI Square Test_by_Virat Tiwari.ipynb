{
 "cells": [
  {
   "cell_type": "markdown",
   "id": "b84622d1-9ece-4b2a-b37b-b78e1dcc85d2",
   "metadata": {},
   "source": [
    "# CHI Square Test"
   ]
  },
  {
   "cell_type": "code",
   "execution_count": 14,
   "id": "08e3bd36-9c0b-42ea-9ac5-d29b6b912a39",
   "metadata": {},
   "outputs": [],
   "source": [
    "# Scipy library is used for statistical operations \n",
    "\n",
    "import scipy.stats as stat\n",
    "import numpy as np"
   ]
  },
  {
   "cell_type": "code",
   "execution_count": 15,
   "id": "fb152efb-5e1e-40fa-b3b2-29b6a24260e0",
   "metadata": {},
   "outputs": [],
   "source": [
    "# No of hours students study in a weekly basis daily  \n",
    "# Mon,Tue,Wed,Thu,Fri,Sat,Sun\n",
    "\n",
    "expected_data=[8,6,7,9,6,9,7]\n",
    "observed_data=[7,8,6,9,9,6,7]"
   ]
  },
  {
   "cell_type": "code",
   "execution_count": 16,
   "id": "d41998e4-fadc-45f5-8bb2-10acd8ac8d25",
   "metadata": {},
   "outputs": [
    {
     "data": {
      "text/plain": [
       "(52, 52)"
      ]
     },
     "execution_count": 16,
     "metadata": {},
     "output_type": "execute_result"
    }
   ],
   "source": [
    "sum(expected_data),sum(observed_data)"
   ]
  },
  {
   "cell_type": "code",
   "execution_count": 17,
   "id": "80d3bb99-56a4-4eb6-bcf6-097f863c3b6e",
   "metadata": {},
   "outputs": [],
   "source": [
    "## CHI Square Goofness of Fit Test\n",
    "\n",
    "chisquare_test_statistics,p_value=stats.chisquare(observed_data,expected_data)"
   ]
  },
  {
   "cell_type": "code",
   "execution_count": 18,
   "id": "895ce2fc-0bc4-476b-8b64-ebe5dca54705",
   "metadata": {},
   "outputs": [
    {
     "data": {
      "text/plain": [
       "(3.4345238095238093, 0.7526596580922865)"
      ]
     },
     "execution_count": 18,
     "metadata": {},
     "output_type": "execute_result"
    }
   ],
   "source": [
    "chisquare_test_statistics,p_value"
   ]
  },
  {
   "cell_type": "code",
   "execution_count": 24,
   "id": "7949dc58-53be-4115-9fa8-08714167ca57",
   "metadata": {},
   "outputs": [
    {
     "name": "stdout",
     "output_type": "stream",
     "text": [
      "7\n"
     ]
    }
   ],
   "source": [
    "## Find the critical value\n",
    "\n",
    "significance_value=0.05\n",
    "dof=len(expected_data)\n",
    "print(dof)\n",
    "critical_value=stat.chi2.ppf(1-significance_value,dof)"
   ]
  },
  {
   "cell_type": "code",
   "execution_count": 25,
   "id": "669a99c2-b19d-4067-a961-9afd6663c4db",
   "metadata": {},
   "outputs": [
    {
     "data": {
      "text/plain": [
       "14.067140449340169"
      ]
     },
     "execution_count": 25,
     "metadata": {},
     "output_type": "execute_result"
    }
   ],
   "source": [
    "critical_value"
   ]
  },
  {
   "cell_type": "code",
   "execution_count": 27,
   "id": "868086af-3dd6-4069-bfe8-2f0dd33cd2a5",
   "metadata": {},
   "outputs": [
    {
     "name": "stdout",
     "output_type": "stream",
     "text": [
      "Accept the null hypothesis\n"
     ]
    }
   ],
   "source": [
    "if chisquare_test_statistics>critical_value:\n",
    "    print(\"Reject the null hypothesis\")\n",
    "else:\n",
    "    print(\"Accept the null hypothesis\")"
   ]
  },
  {
   "cell_type": "code",
   "execution_count": null,
   "id": "99426e1a-c107-4ef0-9331-0f42bf1778f9",
   "metadata": {},
   "outputs": [],
   "source": []
  }
 ],
 "metadata": {
  "kernelspec": {
   "display_name": "Python 3 (ipykernel)",
   "language": "python",
   "name": "python3"
  },
  "language_info": {
   "codemirror_mode": {
    "name": "ipython",
    "version": 3
   },
   "file_extension": ".py",
   "mimetype": "text/x-python",
   "name": "python",
   "nbconvert_exporter": "python",
   "pygments_lexer": "ipython3",
   "version": "3.10.8"
  }
 },
 "nbformat": 4,
 "nbformat_minor": 5
}
