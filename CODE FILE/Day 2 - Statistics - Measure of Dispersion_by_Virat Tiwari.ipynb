{
 "cells": [
  {
   "cell_type": "markdown",
   "id": "cbc211d4-4509-4055-8193-9ada7cbbda96",
   "metadata": {},
   "source": [
    "# Measure Of Dispersion"
   ]
  },
  {
   "cell_type": "code",
   "execution_count": 1,
   "id": "38cb8a70-d343-4337-aa2d-f0301700788b",
   "metadata": {},
   "outputs": [],
   "source": [
    "age_list=[21,54,30,65,12,46,25,26,38,77,16,54,60,34,19,81,23,11,59,43,24,18]"
   ]
  },
  {
   "cell_type": "markdown",
   "id": "b16e0c70-56a8-4224-8802-8d9a654defa8",
   "metadata": {},
   "source": [
    "Note - For getting mean (average) we should import numpy as np"
   ]
  },
  {
   "cell_type": "code",
   "execution_count": 3,
   "id": "a4ca0486-837c-4d33-8e41-bd637eac3148",
   "metadata": {},
   "outputs": [],
   "source": [
    "# WE CAN USE NUMPY FOR PERFORMING WIDE VARIETY OF MATHEMATICAL OPERATIONS OR STATISTICAL OPERATIONS \n",
    "\n",
    "import numpy as np"
   ]
  },
  {
   "cell_type": "code",
   "execution_count": 4,
   "id": "cd6a303e-40ce-431c-921a-cdc73a7f45ac",
   "metadata": {},
   "outputs": [
    {
     "data": {
      "text/plain": [
       "38.0"
      ]
     },
     "execution_count": 4,
     "metadata": {},
     "output_type": "execute_result"
    }
   ],
   "source": [
    "np.mean(age_list)"
   ]
  },
  {
   "cell_type": "markdown",
   "id": "5efb9b17-5048-4ea1-bb73-7e4512e91645",
   "metadata": {},
   "source": [
    "Variance - We can find the variance with the help of \" np.var \" function"
   ]
  },
  {
   "cell_type": "code",
   "execution_count": 5,
   "id": "29821721-caf5-4857-854c-de7a5abc2766",
   "metadata": {},
   "outputs": [
    {
     "data": {
      "text/plain": [
       "426.27272727272725"
      ]
     },
     "execution_count": 5,
     "metadata": {},
     "output_type": "execute_result"
    }
   ],
   "source": [
    "np.var(age_list)"
   ]
  },
  {
   "cell_type": "markdown",
   "id": "323cca61-e814-4089-ac44-bb4c9e380c2f",
   "metadata": {},
   "source": [
    "Standard Deviations - We can find the standard deviation with the help of \" np.std \" function"
   ]
  },
  {
   "cell_type": "code",
   "execution_count": 6,
   "id": "a3fb9368-d23b-4d41-a172-1ef2faace933",
   "metadata": {},
   "outputs": [
    {
     "data": {
      "text/plain": [
       "20.646373223225606"
      ]
     },
     "execution_count": 6,
     "metadata": {},
     "output_type": "execute_result"
    }
   ],
   "source": [
    "np.std(age_list)"
   ]
  },
  {
   "cell_type": "markdown",
   "id": "2822500a-84cf-4b47-9eb9-06eda8ddfcef",
   "metadata": {},
   "source": [
    "Graphical Representation of distribution curve or distribution of data,\n",
    "\n",
    "1 - First we import the seaborn as sns,\n",
    "\n",
    "2-  Second  we use \" sns.histplot( variable name , kde = True ) \" function for getting the graphical representation of data"
   ]
  },
  {
   "cell_type": "code",
   "execution_count": 8,
   "id": "cb476367-a49a-454d-8491-39bdde801482",
   "metadata": {},
   "outputs": [
    {
     "data": {
      "text/plain": [
       "<AxesSubplot: ylabel='Count'>"
      ]
     },
     "execution_count": 8,
     "metadata": {},
     "output_type": "execute_result"
    },
    {
     "data": {
      "image/png": "[encoded data removed]",
      "text/plain": [
       "<Figure size 640x480 with 1 Axes>"
      ]
     },
     "metadata": {},
     "output_type": "display_data"
    }
   ],
   "source": [
    "import seaborn as sns\n",
    "sns.histplot(age_list,kde=True)\n",
    "\n",
    "# THIS HISTOGRAM BASICALLY SHOWS THE SPREAD OR DISPERSION OF SPECIFIC DATA\n",
    "# IN THIS HISTOGRAM VARIANCE IS LARGE SO SPREAD IS AUTOMATICALLY LARGE"
   ]
  },
  {
   "cell_type": "code",
   "execution_count": 9,
   "id": "3d0779f8-36e9-4b37-aaba-c81c92d10a24",
   "metadata": {},
   "outputs": [],
   "source": [
    "#WE CAN USE PANDAS FOR DATA ANALYSIS AND IT MAKE CONCLUSION BASED ON STATISTICAL THEORIES\n",
    "\n",
    "import pandas as pd"
   ]
  },
  {
   "cell_type": "code",
   "execution_count": 21,
   "id": "3ee5960f-e478-4430-ac3c-2e608abf6275",
   "metadata": {},
   "outputs": [],
   "source": [
    "Data=[[45,36,45],[34,10,56],[18,31,19]]"
   ]
  },
  {
   "cell_type": "code",
   "execution_count": 22,
   "id": "feabb118-b91b-48c9-9d89-e2faccdc6836",
   "metadata": {},
   "outputs": [
    {
     "data": {
      "text/plain": [
       "[[45, 36, 45], [34, 10, 56], [18, 31, 19]]"
      ]
     },
     "execution_count": 22,
     "metadata": {},
     "output_type": "execute_result"
    }
   ],
   "source": [
    "Data"
   ]
  },
  {
   "cell_type": "code",
   "execution_count": 23,
   "id": "444809c7-3e7e-4443-83ce-dbb03f249366",
   "metadata": {},
   "outputs": [],
   "source": [
    "df=pd.DataFrame(Data,columns=[\"A\",\"B\",\"C\"])"
   ]
  },
  {
   "cell_type": "code",
   "execution_count": 24,
   "id": "cbcee206-99ca-41d5-bfa3-abf4cbea2f6f",
   "metadata": {},
   "outputs": [
    {
     "data": {
      "text/html": [
       "<div>\n",
       "<style scoped>\n",
       "    .dataframe tbody tr th:only-of-type {\n",
       "        vertical-align: middle;\n",
       "    }\n",
       "\n",
       "    .dataframe tbody tr th {\n",
       "        vertical-align: top;\n",
       "    }\n",
       "\n",
       "    .dataframe thead th {\n",
       "        text-align: right;\n",
       "    }\n",
       "</style>\n",
       "<table border=\"1\" class=\"dataframe\">\n",
       "  <thead>\n",
       "    <tr style=\"text-align: right;\">\n",
       "      <th></th>\n",
       "      <th>A</th>\n",
       "      <th>B</th>\n",
       "      <th>C</th>\n",
       "    </tr>\n",
       "  </thead>\n",
       "  <tbody>\n",
       "    <tr>\n",
       "      <th>0</th>\n",
       "      <td>45</td>\n",
       "      <td>36</td>\n",
       "      <td>45</td>\n",
       "    </tr>\n",
       "    <tr>\n",
       "      <th>1</th>\n",
       "      <td>34</td>\n",
       "      <td>10</td>\n",
       "      <td>56</td>\n",
       "    </tr>\n",
       "    <tr>\n",
       "      <th>2</th>\n",
       "      <td>18</td>\n",
       "      <td>31</td>\n",
       "      <td>19</td>\n",
       "    </tr>\n",
       "  </tbody>\n",
       "</table>\n",
       "</div>"
      ],
      "text/plain": [
       "    A   B   C\n",
       "0  45  36  45\n",
       "1  34  10  56\n",
       "2  18  31  19"
      ]
     },
     "execution_count": 24,
     "metadata": {},
     "output_type": "execute_result"
    }
   ],
   "source": [
    "df.head()"
   ]
  },
  {
   "cell_type": "code",
   "execution_count": 25,
   "id": "5caf196c-04cb-4b88-aaed-2926dc5e73c2",
   "metadata": {},
   "outputs": [
    {
     "data": {
      "text/plain": [
       "A    184.333333\n",
       "B    190.333333\n",
       "C    361.000000\n",
       "dtype: float64"
      ]
     },
     "execution_count": 25,
     "metadata": {},
     "output_type": "execute_result"
    }
   ],
   "source": [
    "df.var()"
   ]
  },
  {
   "cell_type": "code",
   "execution_count": 28,
   "id": "8bd387a5-993e-429e-b4ad-c962ab47fcbe",
   "metadata": {},
   "outputs": [
    {
     "data": {
      "text/plain": [
       "0     27.000000\n",
       "1    529.333333\n",
       "2     52.333333\n",
       "dtype: float64"
      ]
     },
     "execution_count": 28,
     "metadata": {},
     "output_type": "execute_result"
    }
   ],
   "source": [
    "df.var(axis=1)"
   ]
  },
  {
   "cell_type": "code",
   "execution_count": 27,
   "id": "66c77567-4152-400d-8089-ed9e1bcb31c0",
   "metadata": {},
   "outputs": [
    {
     "data": {
      "text/plain": [
       "A    13.576941\n",
       "B    13.796135\n",
       "C    19.000000\n",
       "dtype: float64"
      ]
     },
     "execution_count": 27,
     "metadata": {},
     "output_type": "execute_result"
    }
   ],
   "source": [
    "df.std()"
   ]
  },
  {
   "cell_type": "markdown",
   "id": "b1165cc4-3e33-4465-8859-86f0fcf841f1",
   "metadata": {},
   "source": [
    "THANK YOU SO MUCH !!\n",
    "\n",
    "YOURS VIRAT TIWARI :)"
   ]
  }
 ],
 "metadata": {
  "kernelspec": {
   "display_name": "Python 3 (ipykernel)",
   "language": "python",
   "name": "python3"
  },
  "language_info": {
   "codemirror_mode": {
    "name": "ipython",
    "version": 3
   },
   "file_extension": ".py",
   "mimetype": "text/x-python",
   "name": "python",
   "nbconvert_exporter": "python",
   "pygments_lexer": "ipython3",
   "version": "3.10.8"
  }
 },
 "nbformat": 4,
 "nbformat_minor": 5
}
